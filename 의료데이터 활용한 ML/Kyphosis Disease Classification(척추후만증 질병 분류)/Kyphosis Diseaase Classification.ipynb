{
 "cells": [
  {
   "cell_type": "markdown",
   "metadata": {
    "id": "WRUutyV2W5L2"
   },
   "source": [
    "# **Import Libraries**"
   ]
  },
  {
   "cell_type": "code",
   "execution_count": 1,
   "metadata": {
    "executionInfo": {
     "elapsed": 973,
     "status": "ok",
     "timestamp": 1626830348585,
     "user": {
      "displayName": "‍정승원[ 학부재학 / 건축사회환경공학부 ]",
      "photoUrl": "",
      "userId": "11814689517049187998"
     },
     "user_tz": -540
    },
    "id": "Kh1WkfuaW_xo"
   },
   "outputs": [],
   "source": [
    "import pandas as pd\n",
    "import numpy as np\n",
    "import matplotlib.pyplot as plt\n",
    "import seaborn as sns"
   ]
  },
  {
   "cell_type": "code",
   "execution_count": 2,
   "metadata": {
    "executionInfo": {
     "elapsed": 6,
     "status": "ok",
     "timestamp": 1626830357555,
     "user": {
      "displayName": "‍정승원[ 학부재학 / 건축사회환경공학부 ]",
      "photoUrl": "",
      "userId": "11814689517049187998"
     },
     "user_tz": -540
    },
    "id": "PsaducBpXwZU"
   },
   "outputs": [],
   "source": [
    "kyphosis_df = pd.read_csv('kyphosis.csv')"
   ]
  },
  {
   "cell_type": "code",
   "execution_count": 3,
   "metadata": {
    "colab": {
     "base_uri": "https://localhost:8080/",
     "height": 204
    },
    "executionInfo": {
     "elapsed": 248,
     "status": "ok",
     "timestamp": 1626758713757,
     "user": {
      "displayName": "‍정승원[ 학부재학 / 건축사회환경공학부 ]",
      "photoUrl": "",
      "userId": "11814689517049187998"
     },
     "user_tz": -540
    },
    "id": "Lth_dv8pX6DR",
    "outputId": "9624161c-7c7c-4ee3-f3f5-e75b4e44b9e3"
   },
   "outputs": [
    {
     "data": {
      "text/html": [
       "<div>\n",
       "<style scoped>\n",
       "    .dataframe tbody tr th:only-of-type {\n",
       "        vertical-align: middle;\n",
       "    }\n",
       "\n",
       "    .dataframe tbody tr th {\n",
       "        vertical-align: top;\n",
       "    }\n",
       "\n",
       "    .dataframe thead th {\n",
       "        text-align: right;\n",
       "    }\n",
       "</style>\n",
       "<table border=\"1\" class=\"dataframe\">\n",
       "  <thead>\n",
       "    <tr style=\"text-align: right;\">\n",
       "      <th></th>\n",
       "      <th>Kyphosis</th>\n",
       "      <th>Age</th>\n",
       "      <th>Number</th>\n",
       "      <th>Start</th>\n",
       "    </tr>\n",
       "  </thead>\n",
       "  <tbody>\n",
       "    <tr>\n",
       "      <th>0</th>\n",
       "      <td>absent</td>\n",
       "      <td>71</td>\n",
       "      <td>3</td>\n",
       "      <td>5</td>\n",
       "    </tr>\n",
       "    <tr>\n",
       "      <th>1</th>\n",
       "      <td>absent</td>\n",
       "      <td>158</td>\n",
       "      <td>3</td>\n",
       "      <td>14</td>\n",
       "    </tr>\n",
       "    <tr>\n",
       "      <th>2</th>\n",
       "      <td>present</td>\n",
       "      <td>128</td>\n",
       "      <td>4</td>\n",
       "      <td>5</td>\n",
       "    </tr>\n",
       "    <tr>\n",
       "      <th>3</th>\n",
       "      <td>absent</td>\n",
       "      <td>2</td>\n",
       "      <td>5</td>\n",
       "      <td>1</td>\n",
       "    </tr>\n",
       "    <tr>\n",
       "      <th>4</th>\n",
       "      <td>absent</td>\n",
       "      <td>1</td>\n",
       "      <td>4</td>\n",
       "      <td>15</td>\n",
       "    </tr>\n",
       "  </tbody>\n",
       "</table>\n",
       "</div>"
      ],
      "text/plain": [
       "  Kyphosis  Age  Number  Start\n",
       "0   absent   71       3      5\n",
       "1   absent  158       3     14\n",
       "2  present  128       4      5\n",
       "3   absent    2       5      1\n",
       "4   absent    1       4     15"
      ]
     },
     "execution_count": 3,
     "metadata": {},
     "output_type": "execute_result"
    }
   ],
   "source": [
    "kyphosis_df.head()"
   ]
  },
  {
   "cell_type": "code",
   "execution_count": 4,
   "metadata": {
    "colab": {
     "base_uri": "https://localhost:8080/",
     "height": 204
    },
    "executionInfo": {
     "elapsed": 254,
     "status": "ok",
     "timestamp": 1626758790382,
     "user": {
      "displayName": "‍정승원[ 학부재학 / 건축사회환경공학부 ]",
      "photoUrl": "",
      "userId": "11814689517049187998"
     },
     "user_tz": -540
    },
    "id": "LFghptqxYBbX",
    "outputId": "ea693587-3dff-4196-ca13-05ae589459b4"
   },
   "outputs": [
    {
     "data": {
      "text/html": [
       "<div>\n",
       "<style scoped>\n",
       "    .dataframe tbody tr th:only-of-type {\n",
       "        vertical-align: middle;\n",
       "    }\n",
       "\n",
       "    .dataframe tbody tr th {\n",
       "        vertical-align: top;\n",
       "    }\n",
       "\n",
       "    .dataframe thead th {\n",
       "        text-align: right;\n",
       "    }\n",
       "</style>\n",
       "<table border=\"1\" class=\"dataframe\">\n",
       "  <thead>\n",
       "    <tr style=\"text-align: right;\">\n",
       "      <th></th>\n",
       "      <th>Kyphosis</th>\n",
       "      <th>Age</th>\n",
       "      <th>Number</th>\n",
       "      <th>Start</th>\n",
       "    </tr>\n",
       "  </thead>\n",
       "  <tbody>\n",
       "    <tr>\n",
       "      <th>76</th>\n",
       "      <td>present</td>\n",
       "      <td>157</td>\n",
       "      <td>3</td>\n",
       "      <td>13</td>\n",
       "    </tr>\n",
       "    <tr>\n",
       "      <th>77</th>\n",
       "      <td>absent</td>\n",
       "      <td>26</td>\n",
       "      <td>7</td>\n",
       "      <td>13</td>\n",
       "    </tr>\n",
       "    <tr>\n",
       "      <th>78</th>\n",
       "      <td>absent</td>\n",
       "      <td>120</td>\n",
       "      <td>2</td>\n",
       "      <td>13</td>\n",
       "    </tr>\n",
       "    <tr>\n",
       "      <th>79</th>\n",
       "      <td>present</td>\n",
       "      <td>42</td>\n",
       "      <td>7</td>\n",
       "      <td>6</td>\n",
       "    </tr>\n",
       "    <tr>\n",
       "      <th>80</th>\n",
       "      <td>absent</td>\n",
       "      <td>36</td>\n",
       "      <td>4</td>\n",
       "      <td>13</td>\n",
       "    </tr>\n",
       "  </tbody>\n",
       "</table>\n",
       "</div>"
      ],
      "text/plain": [
       "   Kyphosis  Age  Number  Start\n",
       "76  present  157       3     13\n",
       "77   absent   26       7     13\n",
       "78   absent  120       2     13\n",
       "79  present   42       7      6\n",
       "80   absent   36       4     13"
      ]
     },
     "execution_count": 4,
     "metadata": {},
     "output_type": "execute_result"
    }
   ],
   "source": [
    "kyphosis_df.tail()"
   ]
  },
  {
   "cell_type": "code",
   "execution_count": 5,
   "metadata": {
    "colab": {
     "base_uri": "https://localhost:8080/",
     "height": 297
    },
    "executionInfo": {
     "elapsed": 237,
     "status": "ok",
     "timestamp": 1626758865580,
     "user": {
      "displayName": "‍정승원[ 학부재학 / 건축사회환경공학부 ]",
      "photoUrl": "",
      "userId": "11814689517049187998"
     },
     "user_tz": -540
    },
    "id": "XG34SMyHYUqw",
    "outputId": "ac2005ac-f870-41fe-fda8-d8a37d2f9f6d"
   },
   "outputs": [
    {
     "data": {
      "text/html": [
       "<div>\n",
       "<style scoped>\n",
       "    .dataframe tbody tr th:only-of-type {\n",
       "        vertical-align: middle;\n",
       "    }\n",
       "\n",
       "    .dataframe tbody tr th {\n",
       "        vertical-align: top;\n",
       "    }\n",
       "\n",
       "    .dataframe thead th {\n",
       "        text-align: right;\n",
       "    }\n",
       "</style>\n",
       "<table border=\"1\" class=\"dataframe\">\n",
       "  <thead>\n",
       "    <tr style=\"text-align: right;\">\n",
       "      <th></th>\n",
       "      <th>Age</th>\n",
       "      <th>Number</th>\n",
       "      <th>Start</th>\n",
       "    </tr>\n",
       "  </thead>\n",
       "  <tbody>\n",
       "    <tr>\n",
       "      <th>count</th>\n",
       "      <td>81.000000</td>\n",
       "      <td>81.000000</td>\n",
       "      <td>81.000000</td>\n",
       "    </tr>\n",
       "    <tr>\n",
       "      <th>mean</th>\n",
       "      <td>83.654321</td>\n",
       "      <td>4.049383</td>\n",
       "      <td>11.493827</td>\n",
       "    </tr>\n",
       "    <tr>\n",
       "      <th>std</th>\n",
       "      <td>58.104251</td>\n",
       "      <td>1.619423</td>\n",
       "      <td>4.883962</td>\n",
       "    </tr>\n",
       "    <tr>\n",
       "      <th>min</th>\n",
       "      <td>1.000000</td>\n",
       "      <td>2.000000</td>\n",
       "      <td>1.000000</td>\n",
       "    </tr>\n",
       "    <tr>\n",
       "      <th>25%</th>\n",
       "      <td>26.000000</td>\n",
       "      <td>3.000000</td>\n",
       "      <td>9.000000</td>\n",
       "    </tr>\n",
       "    <tr>\n",
       "      <th>50%</th>\n",
       "      <td>87.000000</td>\n",
       "      <td>4.000000</td>\n",
       "      <td>13.000000</td>\n",
       "    </tr>\n",
       "    <tr>\n",
       "      <th>75%</th>\n",
       "      <td>130.000000</td>\n",
       "      <td>5.000000</td>\n",
       "      <td>16.000000</td>\n",
       "    </tr>\n",
       "    <tr>\n",
       "      <th>max</th>\n",
       "      <td>206.000000</td>\n",
       "      <td>10.000000</td>\n",
       "      <td>18.000000</td>\n",
       "    </tr>\n",
       "  </tbody>\n",
       "</table>\n",
       "</div>"
      ],
      "text/plain": [
       "              Age     Number      Start\n",
       "count   81.000000  81.000000  81.000000\n",
       "mean    83.654321   4.049383  11.493827\n",
       "std     58.104251   1.619423   4.883962\n",
       "min      1.000000   2.000000   1.000000\n",
       "25%     26.000000   3.000000   9.000000\n",
       "50%     87.000000   4.000000  13.000000\n",
       "75%    130.000000   5.000000  16.000000\n",
       "max    206.000000  10.000000  18.000000"
      ]
     },
     "execution_count": 5,
     "metadata": {},
     "output_type": "execute_result"
    }
   ],
   "source": [
    "kyphosis_df.describe()"
   ]
  },
  {
   "cell_type": "markdown",
   "metadata": {
    "id": "10JR2NJ1Y2X-"
   },
   "source": [
    "1달~206/12=17.2살까지"
   ]
  },
  {
   "cell_type": "code",
   "execution_count": 6,
   "metadata": {
    "colab": {
     "base_uri": "https://localhost:8080/"
    },
    "executionInfo": {
     "elapsed": 232,
     "status": "ok",
     "timestamp": 1626759044877,
     "user": {
      "displayName": "‍정승원[ 학부재학 / 건축사회환경공학부 ]",
      "photoUrl": "",
      "userId": "11814689517049187998"
     },
     "user_tz": -540
    },
    "id": "u6hFWGdxY64T",
    "outputId": "de2d833d-b83c-4f20-bcc5-301e115c3429"
   },
   "outputs": [
    {
     "name": "stdout",
     "output_type": "stream",
     "text": [
      "<class 'pandas.core.frame.DataFrame'>\n",
      "RangeIndex: 81 entries, 0 to 80\n",
      "Data columns (total 4 columns):\n",
      " #   Column    Non-Null Count  Dtype \n",
      "---  ------    --------------  ----- \n",
      " 0   Kyphosis  81 non-null     object\n",
      " 1   Age       81 non-null     int64 \n",
      " 2   Number    81 non-null     int64 \n",
      " 3   Start     81 non-null     int64 \n",
      "dtypes: int64(3), object(1)\n",
      "memory usage: 2.7+ KB\n"
     ]
    }
   ],
   "source": [
    "kyphosis_df.info()"
   ]
  },
  {
   "cell_type": "markdown",
   "metadata": {
    "id": "yW4Olkk7ZeRt"
   },
   "source": [
    "# **Visualize Dataset**"
   ]
  },
  {
   "cell_type": "code",
   "execution_count": 7,
   "metadata": {
    "colab": {
     "base_uri": "https://localhost:8080/",
     "height": 335
    },
    "executionInfo": {
     "elapsed": 263,
     "status": "ok",
     "timestamp": 1626759339162,
     "user": {
      "displayName": "‍정승원[ 학부재학 / 건축사회환경공학부 ]",
      "photoUrl": "",
      "userId": "11814689517049187998"
     },
     "user_tz": -540
    },
    "id": "qdoFHJnBZgV0",
    "outputId": "85d34d90-67c9-4acb-acc3-3e9954a37c01"
   },
   "outputs": [],
   "source": [
    "#kyphosis_df['Kyphosis']의 내용으로 그래프를 그리고, y축 기준은 count로 지정\n",
    "sns.countplot(kyphosis_df['Kyphosis'], label = 'Count');"
   ]
  },
  {
   "cell_type": "code",
   "execution_count": 8,
   "metadata": {
    "id": "y84WQ4FMaf5L"
   },
   "outputs": [],
   "source": [
    "from sklearn.preprocessing import LabelEncoder, OneHotEncoder\n",
    "#LabelEncoder는 문자열을 숫자로 바꾸어서 저장해주는 Encoder의 역할을 함\n",
    "LabelEncoder_y = LabelEncoder()\n",
    "\n",
    "kyphosis_df['Kyphosis'] = LabelEncoder_y.fit_transform(kyphosis_df['Kyphosis'])"
   ]
  },
  {
   "cell_type": "code",
   "execution_count": 9,
   "metadata": {
    "colab": {
     "base_uri": "https://localhost:8080/",
     "height": 204
    },
    "executionInfo": {
     "elapsed": 18,
     "status": "ok",
     "timestamp": 1626759645479,
     "user": {
      "displayName": "‍정승원[ 학부재학 / 건축사회환경공학부 ]",
      "photoUrl": "",
      "userId": "11814689517049187998"
     },
     "user_tz": -540
    },
    "id": "Rhqj6vn1bilE",
    "outputId": "ea240808-bab7-45ed-b5b9-4d623bbfecd7"
   },
   "outputs": [
    {
     "data": {
      "text/html": [
       "<div>\n",
       "<style scoped>\n",
       "    .dataframe tbody tr th:only-of-type {\n",
       "        vertical-align: middle;\n",
       "    }\n",
       "\n",
       "    .dataframe tbody tr th {\n",
       "        vertical-align: top;\n",
       "    }\n",
       "\n",
       "    .dataframe thead th {\n",
       "        text-align: right;\n",
       "    }\n",
       "</style>\n",
       "<table border=\"1\" class=\"dataframe\">\n",
       "  <thead>\n",
       "    <tr style=\"text-align: right;\">\n",
       "      <th></th>\n",
       "      <th>Kyphosis</th>\n",
       "      <th>Age</th>\n",
       "      <th>Number</th>\n",
       "      <th>Start</th>\n",
       "    </tr>\n",
       "  </thead>\n",
       "  <tbody>\n",
       "    <tr>\n",
       "      <th>0</th>\n",
       "      <td>0</td>\n",
       "      <td>71</td>\n",
       "      <td>3</td>\n",
       "      <td>5</td>\n",
       "    </tr>\n",
       "    <tr>\n",
       "      <th>1</th>\n",
       "      <td>0</td>\n",
       "      <td>158</td>\n",
       "      <td>3</td>\n",
       "      <td>14</td>\n",
       "    </tr>\n",
       "    <tr>\n",
       "      <th>2</th>\n",
       "      <td>1</td>\n",
       "      <td>128</td>\n",
       "      <td>4</td>\n",
       "      <td>5</td>\n",
       "    </tr>\n",
       "    <tr>\n",
       "      <th>3</th>\n",
       "      <td>0</td>\n",
       "      <td>2</td>\n",
       "      <td>5</td>\n",
       "      <td>1</td>\n",
       "    </tr>\n",
       "    <tr>\n",
       "      <th>4</th>\n",
       "      <td>0</td>\n",
       "      <td>1</td>\n",
       "      <td>4</td>\n",
       "      <td>15</td>\n",
       "    </tr>\n",
       "  </tbody>\n",
       "</table>\n",
       "</div>"
      ],
      "text/plain": [
       "   Kyphosis  Age  Number  Start\n",
       "0         0   71       3      5\n",
       "1         0  158       3     14\n",
       "2         1  128       4      5\n",
       "3         0    2       5      1\n",
       "4         0    1       4     15"
      ]
     },
     "execution_count": 9,
     "metadata": {},
     "output_type": "execute_result"
    }
   ],
   "source": [
    "kyphosis_df.head()"
   ]
  },
  {
   "cell_type": "code",
   "execution_count": 10,
   "metadata": {
    "colab": {
     "base_uri": "https://localhost:8080/",
     "height": 204
    },
    "executionInfo": {
     "elapsed": 255,
     "status": "ok",
     "timestamp": 1626759696484,
     "user": {
      "displayName": "‍정승원[ 학부재학 / 건축사회환경공학부 ]",
      "photoUrl": "",
      "userId": "11814689517049187998"
     },
     "user_tz": -540
    },
    "id": "kHP7XXI_bk2w",
    "outputId": "aab22449-0006-4a4f-93e1-a1366cd915db"
   },
   "outputs": [
    {
     "data": {
      "text/html": [
       "<div>\n",
       "<style scoped>\n",
       "    .dataframe tbody tr th:only-of-type {\n",
       "        vertical-align: middle;\n",
       "    }\n",
       "\n",
       "    .dataframe tbody tr th {\n",
       "        vertical-align: top;\n",
       "    }\n",
       "\n",
       "    .dataframe thead th {\n",
       "        text-align: right;\n",
       "    }\n",
       "</style>\n",
       "<table border=\"1\" class=\"dataframe\">\n",
       "  <thead>\n",
       "    <tr style=\"text-align: right;\">\n",
       "      <th></th>\n",
       "      <th>Kyphosis</th>\n",
       "      <th>Age</th>\n",
       "      <th>Number</th>\n",
       "      <th>Start</th>\n",
       "    </tr>\n",
       "  </thead>\n",
       "  <tbody>\n",
       "    <tr>\n",
       "      <th>76</th>\n",
       "      <td>1</td>\n",
       "      <td>157</td>\n",
       "      <td>3</td>\n",
       "      <td>13</td>\n",
       "    </tr>\n",
       "    <tr>\n",
       "      <th>77</th>\n",
       "      <td>0</td>\n",
       "      <td>26</td>\n",
       "      <td>7</td>\n",
       "      <td>13</td>\n",
       "    </tr>\n",
       "    <tr>\n",
       "      <th>78</th>\n",
       "      <td>0</td>\n",
       "      <td>120</td>\n",
       "      <td>2</td>\n",
       "      <td>13</td>\n",
       "    </tr>\n",
       "    <tr>\n",
       "      <th>79</th>\n",
       "      <td>1</td>\n",
       "      <td>42</td>\n",
       "      <td>7</td>\n",
       "      <td>6</td>\n",
       "    </tr>\n",
       "    <tr>\n",
       "      <th>80</th>\n",
       "      <td>0</td>\n",
       "      <td>36</td>\n",
       "      <td>4</td>\n",
       "      <td>13</td>\n",
       "    </tr>\n",
       "  </tbody>\n",
       "</table>\n",
       "</div>"
      ],
      "text/plain": [
       "    Kyphosis  Age  Number  Start\n",
       "76         1  157       3     13\n",
       "77         0   26       7     13\n",
       "78         0  120       2     13\n",
       "79         1   42       7      6\n",
       "80         0   36       4     13"
      ]
     },
     "execution_count": 10,
     "metadata": {},
     "output_type": "execute_result"
    }
   ],
   "source": [
    "kyphosis_df.tail()"
   ]
  },
  {
   "cell_type": "code",
   "execution_count": 11,
   "metadata": {
    "id": "W-FRkOp4buWO"
   },
   "outputs": [],
   "source": [
    "#수술 후에 척추 후만증에 걸리지 않은 사람\n",
    "kyphosis_False = kyphosis_df[kyphosis_df['Kyphosis']==0]"
   ]
  },
  {
   "cell_type": "code",
   "execution_count": 12,
   "metadata": {
    "colab": {
     "base_uri": "https://localhost:8080/",
     "height": 204
    },
    "executionInfo": {
     "elapsed": 244,
     "status": "ok",
     "timestamp": 1626759737935,
     "user": {
      "displayName": "‍정승원[ 학부재학 / 건축사회환경공학부 ]",
      "photoUrl": "",
      "userId": "11814689517049187998"
     },
     "user_tz": -540
    },
    "id": "J86ot6TCb5PD",
    "outputId": "cf90dac3-0141-48e0-92e8-defc6ba55337"
   },
   "outputs": [
    {
     "data": {
      "text/html": [
       "<div>\n",
       "<style scoped>\n",
       "    .dataframe tbody tr th:only-of-type {\n",
       "        vertical-align: middle;\n",
       "    }\n",
       "\n",
       "    .dataframe tbody tr th {\n",
       "        vertical-align: top;\n",
       "    }\n",
       "\n",
       "    .dataframe thead th {\n",
       "        text-align: right;\n",
       "    }\n",
       "</style>\n",
       "<table border=\"1\" class=\"dataframe\">\n",
       "  <thead>\n",
       "    <tr style=\"text-align: right;\">\n",
       "      <th></th>\n",
       "      <th>Kyphosis</th>\n",
       "      <th>Age</th>\n",
       "      <th>Number</th>\n",
       "      <th>Start</th>\n",
       "    </tr>\n",
       "  </thead>\n",
       "  <tbody>\n",
       "    <tr>\n",
       "      <th>0</th>\n",
       "      <td>0</td>\n",
       "      <td>71</td>\n",
       "      <td>3</td>\n",
       "      <td>5</td>\n",
       "    </tr>\n",
       "    <tr>\n",
       "      <th>1</th>\n",
       "      <td>0</td>\n",
       "      <td>158</td>\n",
       "      <td>3</td>\n",
       "      <td>14</td>\n",
       "    </tr>\n",
       "    <tr>\n",
       "      <th>3</th>\n",
       "      <td>0</td>\n",
       "      <td>2</td>\n",
       "      <td>5</td>\n",
       "      <td>1</td>\n",
       "    </tr>\n",
       "    <tr>\n",
       "      <th>4</th>\n",
       "      <td>0</td>\n",
       "      <td>1</td>\n",
       "      <td>4</td>\n",
       "      <td>15</td>\n",
       "    </tr>\n",
       "    <tr>\n",
       "      <th>5</th>\n",
       "      <td>0</td>\n",
       "      <td>1</td>\n",
       "      <td>2</td>\n",
       "      <td>16</td>\n",
       "    </tr>\n",
       "  </tbody>\n",
       "</table>\n",
       "</div>"
      ],
      "text/plain": [
       "   Kyphosis  Age  Number  Start\n",
       "0         0   71       3      5\n",
       "1         0  158       3     14\n",
       "3         0    2       5      1\n",
       "4         0    1       4     15\n",
       "5         0    1       2     16"
      ]
     },
     "execution_count": 12,
     "metadata": {},
     "output_type": "execute_result"
    }
   ],
   "source": [
    "kyphosis_False.head()"
   ]
  },
  {
   "cell_type": "code",
   "execution_count": 13,
   "metadata": {
    "colab": {
     "base_uri": "https://localhost:8080/"
    },
    "executionInfo": {
     "elapsed": 242,
     "status": "ok",
     "timestamp": 1626759871575,
     "user": {
      "displayName": "‍정승원[ 학부재학 / 건축사회환경공학부 ]",
      "photoUrl": "",
      "userId": "11814689517049187998"
     },
     "user_tz": -540
    },
    "id": "O9n-iwv6cI9_",
    "outputId": "bacffdd2-4f14-4ee5-d9ea-f7646bd2dbc6"
   },
   "outputs": [
    {
     "name": "stdout",
     "output_type": "stream",
     "text": [
      "Disease absent after operation percentage =  79.01234567901234 %\n"
     ]
    }
   ],
   "source": [
    "print(\"Disease absent after operation percentage = \", (len(kyphosis_False)/len(kyphosis_df))*100, '%')"
   ]
  },
  {
   "cell_type": "code",
   "execution_count": 14,
   "metadata": {
    "id": "nfRvPhnqccmR"
   },
   "outputs": [],
   "source": [
    "kyphosis_True = kyphosis_df[kyphosis_df['Kyphosis']==1]"
   ]
  },
  {
   "cell_type": "code",
   "execution_count": 15,
   "metadata": {
    "colab": {
     "base_uri": "https://localhost:8080/"
    },
    "executionInfo": {
     "elapsed": 275,
     "status": "ok",
     "timestamp": 1626759953266,
     "user": {
      "displayName": "‍정승원[ 학부재학 / 건축사회환경공학부 ]",
      "photoUrl": "",
      "userId": "11814689517049187998"
     },
     "user_tz": -540
    },
    "id": "TVy9Qgmfcn_7",
    "outputId": "d7354369-41bc-4894-fa51-261c691553ab"
   },
   "outputs": [
    {
     "name": "stdout",
     "output_type": "stream",
     "text": [
      "Disease present after operation percentage =  20.98765432098765 %\n"
     ]
    }
   ],
   "source": [
    "print(\"Disease present after operation percentage = \", (len(kyphosis_True)/len(kyphosis_df))*100, '%')"
   ]
  },
  {
   "cell_type": "code",
   "execution_count": 16,
   "metadata": {
    "colab": {
     "base_uri": "https://localhost:8080/",
     "height": 287
    },
    "executionInfo": {
     "elapsed": 630,
     "status": "ok",
     "timestamp": 1626760045699,
     "user": {
      "displayName": "‍정승원[ 학부재학 / 건축사회환경공학부 ]",
      "photoUrl": "",
      "userId": "11814689517049187998"
     },
     "user_tz": -540
    },
    "id": "vu4mNSfScv1O",
    "outputId": "f79423a2-730c-49c9-c74c-3a778a06ef75"
   },
   "outputs": [
    {
     "data": {
      "text/plain": [
       "<AxesSubplot:>"
      ]
     },
     "execution_count": 16,
     "metadata": {},
     "output_type": "execute_result"
    }
   ],
   "source": [
    " #Correlation\n",
    " #annot는 각 상자 안에 값을 표기\n",
    " sns.heatmap(kyphosis_df.corr(), annot = True)"
   ]
  },
  {
   "cell_type": "markdown",
   "metadata": {
    "id": "vTJ_CRGSde8v"
   },
   "source": [
    "1열을 보면, 각 변수간의 상관관계를 볼 수 있다"
   ]
  },
  {
   "cell_type": "code",
   "execution_count": 17,
   "metadata": {
    "colab": {
     "base_uri": "https://localhost:8080/",
     "height": 568
    },
    "executionInfo": {
     "elapsed": 5064,
     "status": "ok",
     "timestamp": 1626760533983,
     "user": {
      "displayName": "‍정승원[ 학부재학 / 건축사회환경공학부 ]",
      "photoUrl": "",
      "userId": "11814689517049187998"
     },
     "user_tz": -540
    },
    "id": "0JZxuHnidpku",
    "outputId": "f79f1173-8a7c-4f76-8c43-a44470072c19"
   },
   "outputs": [
    {
     "data": {
      "text/plain": [
       "<seaborn.axisgrid.PairGrid at 0x28b81796d60>"
      ]
     },
     "execution_count": 17,
     "metadata": {},
     "output_type": "execute_result"
    }
   ],
   "source": [
    "#Visualize \n",
    "#hue는 색깔 구분, vars는 나타낼 변수\n",
    "sns.pairplot(kyphosis_df, hue = 'Kyphosis', vars = ['Age','Number','Start'])"
   ]
  },
  {
   "cell_type": "markdown",
   "metadata": {
    "id": "lJLqS6ekfNY1"
   },
   "source": [
    "# **Testing and Training dataset**"
   ]
  },
  {
   "cell_type": "code",
   "execution_count": 18,
   "metadata": {
    "colab": {
     "base_uri": "https://localhost:8080/",
     "height": 419
    },
    "executionInfo": {
     "elapsed": 288,
     "status": "ok",
     "timestamp": 1626760651493,
     "user": {
      "displayName": "‍정승원[ 학부재학 / 건축사회환경공학부 ]",
      "photoUrl": "",
      "userId": "11814689517049187998"
     },
     "user_tz": -540
    },
    "id": "Dc4Xiw-KfSWW",
    "outputId": "7d1482e4-a729-432e-97e1-628339db5bd4"
   },
   "outputs": [
    {
     "data": {
      "text/html": [
       "<div>\n",
       "<style scoped>\n",
       "    .dataframe tbody tr th:only-of-type {\n",
       "        vertical-align: middle;\n",
       "    }\n",
       "\n",
       "    .dataframe tbody tr th {\n",
       "        vertical-align: top;\n",
       "    }\n",
       "\n",
       "    .dataframe thead th {\n",
       "        text-align: right;\n",
       "    }\n",
       "</style>\n",
       "<table border=\"1\" class=\"dataframe\">\n",
       "  <thead>\n",
       "    <tr style=\"text-align: right;\">\n",
       "      <th></th>\n",
       "      <th>Age</th>\n",
       "      <th>Number</th>\n",
       "      <th>Start</th>\n",
       "    </tr>\n",
       "  </thead>\n",
       "  <tbody>\n",
       "    <tr>\n",
       "      <th>0</th>\n",
       "      <td>71</td>\n",
       "      <td>3</td>\n",
       "      <td>5</td>\n",
       "    </tr>\n",
       "    <tr>\n",
       "      <th>1</th>\n",
       "      <td>158</td>\n",
       "      <td>3</td>\n",
       "      <td>14</td>\n",
       "    </tr>\n",
       "    <tr>\n",
       "      <th>2</th>\n",
       "      <td>128</td>\n",
       "      <td>4</td>\n",
       "      <td>5</td>\n",
       "    </tr>\n",
       "    <tr>\n",
       "      <th>3</th>\n",
       "      <td>2</td>\n",
       "      <td>5</td>\n",
       "      <td>1</td>\n",
       "    </tr>\n",
       "    <tr>\n",
       "      <th>4</th>\n",
       "      <td>1</td>\n",
       "      <td>4</td>\n",
       "      <td>15</td>\n",
       "    </tr>\n",
       "    <tr>\n",
       "      <th>...</th>\n",
       "      <td>...</td>\n",
       "      <td>...</td>\n",
       "      <td>...</td>\n",
       "    </tr>\n",
       "    <tr>\n",
       "      <th>76</th>\n",
       "      <td>157</td>\n",
       "      <td>3</td>\n",
       "      <td>13</td>\n",
       "    </tr>\n",
       "    <tr>\n",
       "      <th>77</th>\n",
       "      <td>26</td>\n",
       "      <td>7</td>\n",
       "      <td>13</td>\n",
       "    </tr>\n",
       "    <tr>\n",
       "      <th>78</th>\n",
       "      <td>120</td>\n",
       "      <td>2</td>\n",
       "      <td>13</td>\n",
       "    </tr>\n",
       "    <tr>\n",
       "      <th>79</th>\n",
       "      <td>42</td>\n",
       "      <td>7</td>\n",
       "      <td>6</td>\n",
       "    </tr>\n",
       "    <tr>\n",
       "      <th>80</th>\n",
       "      <td>36</td>\n",
       "      <td>4</td>\n",
       "      <td>13</td>\n",
       "    </tr>\n",
       "  </tbody>\n",
       "</table>\n",
       "<p>81 rows × 3 columns</p>\n",
       "</div>"
      ],
      "text/plain": [
       "    Age  Number  Start\n",
       "0    71       3      5\n",
       "1   158       3     14\n",
       "2   128       4      5\n",
       "3     2       5      1\n",
       "4     1       4     15\n",
       "..  ...     ...    ...\n",
       "76  157       3     13\n",
       "77   26       7     13\n",
       "78  120       2     13\n",
       "79   42       7      6\n",
       "80   36       4     13\n",
       "\n",
       "[81 rows x 3 columns]"
      ]
     },
     "execution_count": 18,
     "metadata": {},
     "output_type": "execute_result"
    }
   ],
   "source": [
    "x = kyphosis_df.drop(['Kyphosis'], axis = 1)\n",
    "x"
   ]
  },
  {
   "cell_type": "code",
   "execution_count": 19,
   "metadata": {
    "colab": {
     "base_uri": "https://localhost:8080/"
    },
    "executionInfo": {
     "elapsed": 240,
     "status": "ok",
     "timestamp": 1626760672528,
     "user": {
      "displayName": "‍정승원[ 학부재학 / 건축사회환경공학부 ]",
      "photoUrl": "",
      "userId": "11814689517049187998"
     },
     "user_tz": -540
    },
    "id": "HhRvmp6DfcBZ",
    "outputId": "85807455-69dd-44db-a63f-2cc7cea5f3bc"
   },
   "outputs": [
    {
     "data": {
      "text/plain": [
       "0     0\n",
       "1     0\n",
       "2     1\n",
       "3     0\n",
       "4     0\n",
       "     ..\n",
       "76    1\n",
       "77    0\n",
       "78    0\n",
       "79    1\n",
       "80    0\n",
       "Name: Kyphosis, Length: 81, dtype: int32"
      ]
     },
     "execution_count": 19,
     "metadata": {},
     "output_type": "execute_result"
    }
   ],
   "source": [
    "y = kyphosis_df['Kyphosis']\n",
    "y"
   ]
  },
  {
   "cell_type": "code",
   "execution_count": 20,
   "metadata": {
    "id": "zCjtMJdjff06"
   },
   "outputs": [],
   "source": [
    "from sklearn.model_selection import train_test_split"
   ]
  },
  {
   "cell_type": "code",
   "execution_count": 21,
   "metadata": {
    "id": "rQAZc8h_fo5Z"
   },
   "outputs": [],
   "source": [
    "x_train, x_test, y_train, y_test = train_test_split(x,y,test_size = 0.3)"
   ]
  },
  {
   "cell_type": "markdown",
   "metadata": {
    "id": "-Qpi5F5hfx1n"
   },
   "source": [
    "# **Training Model**"
   ]
  },
  {
   "cell_type": "code",
   "execution_count": 22,
   "metadata": {
    "colab": {
     "base_uri": "https://localhost:8080/"
    },
    "executionInfo": {
     "elapsed": 256,
     "status": "ok",
     "timestamp": 1626760829976,
     "user": {
      "displayName": "‍정승원[ 학부재학 / 건축사회환경공학부 ]",
      "photoUrl": "",
      "userId": "11814689517049187998"
     },
     "user_tz": -540
    },
    "id": "UOvfq2prfz01",
    "outputId": "02379a8a-ae95-4468-a345-efa8a450f424"
   },
   "outputs": [
    {
     "data": {
      "text/plain": [
       "(56, 3)"
      ]
     },
     "execution_count": 22,
     "metadata": {},
     "output_type": "execute_result"
    }
   ],
   "source": [
    "x_train.shape"
   ]
  },
  {
   "cell_type": "code",
   "execution_count": 23,
   "metadata": {
    "colab": {
     "base_uri": "https://localhost:8080/"
    },
    "executionInfo": {
     "elapsed": 235,
     "status": "ok",
     "timestamp": 1626760842580,
     "user": {
      "displayName": "‍정승원[ 학부재학 / 건축사회환경공학부 ]",
      "photoUrl": "",
      "userId": "11814689517049187998"
     },
     "user_tz": -540
    },
    "id": "3Vn4qc_wgGAG",
    "outputId": "de183a9d-485a-4fb5-a476-0fa7c77eb010"
   },
   "outputs": [
    {
     "data": {
      "text/plain": [
       "(56,)"
      ]
     },
     "execution_count": 23,
     "metadata": {},
     "output_type": "execute_result"
    }
   ],
   "source": [
    "#56행, 1열\n",
    "y_train.shape"
   ]
  },
  {
   "cell_type": "code",
   "execution_count": 24,
   "metadata": {
    "colab": {
     "base_uri": "https://localhost:8080/"
    },
    "executionInfo": {
     "elapsed": 247,
     "status": "ok",
     "timestamp": 1626760865327,
     "user": {
      "displayName": "‍정승원[ 학부재학 / 건축사회환경공학부 ]",
      "photoUrl": "",
      "userId": "11814689517049187998"
     },
     "user_tz": -540
    },
    "id": "plX4TTVTgJwL",
    "outputId": "d47fadc2-cf7a-4bc3-ea1f-937c4679d2b6"
   },
   "outputs": [
    {
     "data": {
      "text/plain": [
       "(25, 3)"
      ]
     },
     "execution_count": 24,
     "metadata": {},
     "output_type": "execute_result"
    }
   ],
   "source": [
    "x_test.shape"
   ]
  },
  {
   "cell_type": "code",
   "execution_count": 25,
   "metadata": {
    "colab": {
     "base_uri": "https://localhost:8080/"
    },
    "executionInfo": {
     "elapsed": 252,
     "status": "ok",
     "timestamp": 1626760873254,
     "user": {
      "displayName": "‍정승원[ 학부재학 / 건축사회환경공학부 ]",
      "photoUrl": "",
      "userId": "11814689517049187998"
     },
     "user_tz": -540
    },
    "id": "F0-cTdDSgOZ9",
    "outputId": "2100883c-b916-4028-e3f7-31833e629009"
   },
   "outputs": [
    {
     "data": {
      "text/plain": [
       "(25,)"
      ]
     },
     "execution_count": 25,
     "metadata": {},
     "output_type": "execute_result"
    }
   ],
   "source": [
    "y_test.shape"
   ]
  },
  {
   "cell_type": "code",
   "execution_count": 26,
   "metadata": {
    "colab": {
     "base_uri": "https://localhost:8080/"
    },
    "executionInfo": {
     "elapsed": 259,
     "status": "ok",
     "timestamp": 1626760970941,
     "user": {
      "displayName": "‍정승원[ 학부재학 / 건축사회환경공학부 ]",
      "photoUrl": "",
      "userId": "11814689517049187998"
     },
     "user_tz": -540
    },
    "id": "ejIWmMdYgQ5x",
    "outputId": "5a7e417c-9fe7-4658-e1fd-d4808585746f"
   },
   "outputs": [
    {
     "data": {
      "text/plain": [
       "DecisionTreeClassifier()"
      ]
     },
     "execution_count": 26,
     "metadata": {},
     "output_type": "execute_result"
    }
   ],
   "source": [
    "#DecisionTreeClassifier사용, DecisionTree를 활용한 분류기\n",
    "from sklearn.tree import DecisionTreeClassifier\n",
    "decision_tree = DecisionTreeClassifier()\n",
    "decision_tree.fit(x_train, y_train)"
   ]
  },
  {
   "cell_type": "markdown",
   "metadata": {
    "id": "3XzRsgGNhqNp"
   },
   "source": [
    "# **Evaluating the model**"
   ]
  },
  {
   "cell_type": "code",
   "execution_count": 27,
   "metadata": {
    "id": "-DA1BHXvhsjb"
   },
   "outputs": [],
   "source": [
    "from sklearn.metrics import classification_report, confusion_matrix"
   ]
  },
  {
   "cell_type": "code",
   "execution_count": 28,
   "metadata": {
    "id": "UgZHFM8nhwcC"
   },
   "outputs": [],
   "source": [
    "y_predict_test = decision_tree.predict(x_test)"
   ]
  },
  {
   "cell_type": "code",
   "execution_count": 29,
   "metadata": {
    "colab": {
     "base_uri": "https://localhost:8080/"
    },
    "executionInfo": {
     "elapsed": 304,
     "status": "ok",
     "timestamp": 1626761388491,
     "user": {
      "displayName": "‍정승원[ 학부재학 / 건축사회환경공학부 ]",
      "photoUrl": "",
      "userId": "11814689517049187998"
     },
     "user_tz": -540
    },
    "id": "E-RolYp2hz-_",
    "outputId": "e3454654-3e74-4dd5-a7b7-19e40aac2f76"
   },
   "outputs": [
    {
     "data": {
      "text/plain": [
       "array([0, 0, 0, 0, 0, 0, 1, 0, 0, 0, 1, 0, 0, 0, 0, 0, 0, 0, 1, 0, 0, 0,\n",
       "       0, 0, 0])"
      ]
     },
     "execution_count": 29,
     "metadata": {},
     "output_type": "execute_result"
    }
   ],
   "source": [
    "y_predict_test"
   ]
  },
  {
   "cell_type": "code",
   "execution_count": 30,
   "metadata": {
    "colab": {
     "base_uri": "https://localhost:8080/"
    },
    "executionInfo": {
     "elapsed": 5,
     "status": "ok",
     "timestamp": 1626761390618,
     "user": {
      "displayName": "‍정승원[ 학부재학 / 건축사회환경공학부 ]",
      "photoUrl": "",
      "userId": "11814689517049187998"
     },
     "user_tz": -540
    },
    "id": "NvdUR_VYh28I",
    "outputId": "23e2f554-59d9-4056-c3ca-d09e6673d793"
   },
   "outputs": [
    {
     "data": {
      "text/plain": [
       "76    1\n",
       "22    1\n",
       "58    0\n",
       "1     0\n",
       "52    1\n",
       "46    0\n",
       "36    0\n",
       "54    0\n",
       "65    0\n",
       "51    0\n",
       "48    1\n",
       "41    0\n",
       "70    0\n",
       "10    1\n",
       "67    0\n",
       "14    0\n",
       "6     0\n",
       "8     0\n",
       "23    0\n",
       "15    0\n",
       "7     0\n",
       "4     0\n",
       "40    1\n",
       "5     0\n",
       "56    0\n",
       "Name: Kyphosis, dtype: int32"
      ]
     },
     "execution_count": 30,
     "metadata": {},
     "output_type": "execute_result"
    }
   ],
   "source": [
    "y_test"
   ]
  },
  {
   "cell_type": "code",
   "execution_count": 31,
   "metadata": {
    "id": "-9g3mQY_ihbC"
   },
   "outputs": [],
   "source": [
    "cm = confusion_matrix(y_test, y_predict_test)"
   ]
  },
  {
   "cell_type": "code",
   "execution_count": 32,
   "metadata": {
    "colab": {
     "base_uri": "https://localhost:8080/",
     "height": 283
    },
    "executionInfo": {
     "elapsed": 784,
     "status": "ok",
     "timestamp": 1626761597957,
     "user": {
      "displayName": "‍정승원[ 학부재학 / 건축사회환경공학부 ]",
      "photoUrl": "",
      "userId": "11814689517049187998"
     },
     "user_tz": -540
    },
    "id": "FfW0QHBoi-uh",
    "outputId": "cbafe375-aab9-48cb-8cc9-96731abf8fea"
   },
   "outputs": [
    {
     "data": {
      "text/plain": [
       "<AxesSubplot:>"
      ]
     },
     "execution_count": 32,
     "metadata": {},
     "output_type": "execute_result"
    }
   ],
   "source": [
    "sns.heatmap(cm, annot = True)"
   ]
  },
  {
   "cell_type": "markdown",
   "metadata": {
    "id": "QofU_LHbjE0f"
   },
   "source": [
    "x축은 actual, y축은 prediction\n",
    "\n",
    "True는 예측이 맞다, False는 틀리다\n",
    "N은 0, P는 1\n",
    "\n",
    "TN    FN\n",
    "\n",
    "FP    TP"
   ]
  },
  {
   "cell_type": "code",
   "execution_count": 33,
   "metadata": {
    "colab": {
     "base_uri": "https://localhost:8080/"
    },
    "executionInfo": {
     "elapsed": 239,
     "status": "ok",
     "timestamp": 1626761843135,
     "user": {
      "displayName": "‍정승원[ 학부재학 / 건축사회환경공학부 ]",
      "photoUrl": "",
      "userId": "11814689517049187998"
     },
     "user_tz": -540
    },
    "id": "TdHciDRKj6SA",
    "outputId": "06966615-f385-43b9-bad5-e1663f4a5bba"
   },
   "outputs": [
    {
     "name": "stdout",
     "output_type": "stream",
     "text": [
      "              precision    recall  f1-score   support\n",
      "\n",
      "           0       0.77      0.89      0.83        19\n",
      "           1       0.33      0.17      0.22         6\n",
      "\n",
      "    accuracy                           0.72        25\n",
      "   macro avg       0.55      0.53      0.53        25\n",
      "weighted avg       0.67      0.72      0.68        25\n",
      "\n"
     ]
    }
   ],
   "source": [
    "print(classification_report(y_test,y_predict_test))"
   ]
  },
  {
   "cell_type": "markdown",
   "metadata": {
    "id": "x7rU_ai2k23i"
   },
   "source": [
    "Precision = =true positive/true positive + negative positive\n",
    "\n",
    "Recall = true positive/ true positive + negative false\n",
    "\n",
    "1일때 1/1일때 1 + 0일때 1 (전체 예측률)\n",
    "\n",
    "F1 = 2*(Recall * Precision)/Recall + Precision"
   ]
  },
  {
   "cell_type": "markdown",
   "metadata": {
    "id": "NP-SYq-SlJPJ"
   },
   "source": [
    "# **Training model2**"
   ]
  },
  {
   "cell_type": "code",
   "execution_count": 34,
   "metadata": {
    "colab": {
     "base_uri": "https://localhost:8080/"
    },
    "executionInfo": {
     "elapsed": 613,
     "status": "ok",
     "timestamp": 1626762360935,
     "user": {
      "displayName": "‍정승원[ 학부재학 / 건축사회환경공학부 ]",
      "photoUrl": "",
      "userId": "11814689517049187998"
     },
     "user_tz": -540
    },
    "id": "7WQ4EaVglLbM",
    "outputId": "d61cd3c0-d4d8-4792-ce19-0e76f56821f1"
   },
   "outputs": [
    {
     "data": {
      "text/plain": [
       "RandomForestClassifier(n_estimators=150)"
      ]
     },
     "execution_count": 34,
     "metadata": {},
     "output_type": "execute_result"
    }
   ],
   "source": [
    "#Random Forest Classifier \n",
    "from sklearn.ensemble import RandomForestClassifier\n",
    "RandomForest = RandomForestClassifier(n_estimators = 150)\n",
    "RandomForest.fit(x_train, y_train)"
   ]
  },
  {
   "cell_type": "code",
   "execution_count": 35,
   "metadata": {
    "id": "HN4YlTnTl7e7"
   },
   "outputs": [],
   "source": [
    "y_predict_test = RandomForest.predict(x_test)"
   ]
  },
  {
   "cell_type": "code",
   "execution_count": 36,
   "metadata": {
    "colab": {
     "base_uri": "https://localhost:8080/",
     "height": 287
    },
    "executionInfo": {
     "elapsed": 336,
     "status": "ok",
     "timestamp": 1626762404412,
     "user": {
      "displayName": "‍정승원[ 학부재학 / 건축사회환경공학부 ]",
      "photoUrl": "",
      "userId": "11814689517049187998"
     },
     "user_tz": -540
    },
    "id": "Cd4fo8vfl-m6",
    "outputId": "b6a3e718-adef-4d40-d9be-bb517bcaad2b"
   },
   "outputs": [
    {
     "data": {
      "text/plain": [
       "<AxesSubplot:>"
      ]
     },
     "execution_count": 36,
     "metadata": {},
     "output_type": "execute_result"
    }
   ],
   "source": [
    "cm = confusion_matrix(y_test, y_predict_test)\n",
    "sns.heatmap(cm,annot = True)"
   ]
  },
  {
   "cell_type": "code",
   "execution_count": 37,
   "metadata": {
    "colab": {
     "base_uri": "https://localhost:8080/"
    },
    "executionInfo": {
     "elapsed": 251,
     "status": "ok",
     "timestamp": 1626762423338,
     "user": {
      "displayName": "‍정승원[ 학부재학 / 건축사회환경공학부 ]",
      "photoUrl": "",
      "userId": "11814689517049187998"
     },
     "user_tz": -540
    },
    "id": "FILm1WKFmGPi",
    "outputId": "c1aad99d-ec88-4827-f5f8-83d7730b0d6c"
   },
   "outputs": [
    {
     "name": "stdout",
     "output_type": "stream",
     "text": [
      "              precision    recall  f1-score   support\n",
      "\n",
      "           0       0.78      0.95      0.86        19\n",
      "           1       0.50      0.17      0.25         6\n",
      "\n",
      "    accuracy                           0.76        25\n",
      "   macro avg       0.64      0.56      0.55        25\n",
      "weighted avg       0.71      0.76      0.71        25\n",
      "\n"
     ]
    }
   ],
   "source": [
    "print(classification_report(y_test,y_predict_test))"
   ]
  },
  {
   "cell_type": "code",
   "execution_count": 38,
   "metadata": {
    "id": "gMyjaMe2nWd1"
   },
   "outputs": [],
   "source": [
    "#DecisionTreeClassifier\n",
    "#precision    recall  f1-score   support\n",
    "\n",
    "#           0       0.93      0.65      0.76        20\n",
    "#           1       0.36      0.80      0.50         5\n",
    "\n",
    "#    accuracy                           0.68        25\n",
    "#   macro avg       0.65      0.73      0.63        25\n",
    "#weighted avg       0.82      0.68      0.71        25"
   ]
  }
 ],
 "metadata": {
  "colab": {
   "authorship_tag": "ABX9TyMx8q/40QEcmXqAQPdhIGSO",
   "collapsed_sections": [],
   "name": "Kyphosis Diseaase Classification.ipynb",
   "provenance": []
  },
  "kernelspec": {
   "display_name": "Python 3",
   "language": "python",
   "name": "python3"
  },
  "language_info": {
   "codemirror_mode": {
    "name": "ipython",
    "version": 3
   },
   "file_extension": ".py",
   "mimetype": "text/x-python",
   "name": "python",
   "nbconvert_exporter": "python",
   "pygments_lexer": "ipython3",
   "version": "3.8.5"
  }
 },
 "nbformat": 4,
 "nbformat_minor": 1
}
